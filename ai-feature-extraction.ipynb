{
 "nbformat": 4,
 "nbformat_minor": 2,
 "metadata": {
  "language_info": {
   "name": "python",
   "codemirror_mode": {
    "name": "ipython",
    "version": 3
   },
   "version": "3.7.5"
  },
  "orig_nbformat": 2,
  "file_extension": ".py",
  "mimetype": "text/x-python",
  "name": "python",
  "npconvert_exporter": "python",
  "pygments_lexer": "ipython3",
  "version": 3
 },
 "cells": [
  {
   "cell_type": "markdown",
   "execution_count": null,
   "metadata": {},
   "outputs": [],
   "source": [
    "# Feature Extractions Method\n",
    "1. Local Binary Pattern \n",
    "   - Local Binary Pattern Histogram (LBPH)\n",
    "   - Local Binary Pattern Histogram Uniform (LBPH-Uniform)\n",
    "    \n",
    "2. Mel Frequency Ceptrum (MFCC)\n",
    "3. Principal Component Analysis (PCA)"
   ]
  },
  {
   "cell_type": "markdown",
   "execution_count": null,
   "metadata": {},
   "outputs": [],
   "source": [
    "## 1. Local Binary Pattern\n",
    "1. Local Binary Pattern Histogram (LBPH)\n",
    "2. Local Binary Pattern Histogram Uniform (LBPH-Uniform)"
   ]
  },
  {
   "cell_type": "code",
   "execution_count": 0,
   "metadata": {},
   "outputs": [],
   "source": [
    "# Local Binary Pattern Histogram LBPH \n",
    "# source : \n",
    "import cv2\n",
    "import numpy as np\n",
    "import glob\n",
    "from matplotlib import pyplot as plt\n",
    "\n",
    "def thresholded(center, pixels):\n",
    "    threshold = []\n",
    "    for a in pixels:\n",
    "        if a >= center:\n",
    "            threshold.append(1)\n",
    "        else :\n",
    "            threshold.append(0)\n",
    "    return threshold\n",
    "\n",
    "def get_pixel_else_0(l, idx, idy, default=0):\n",
    "    try:\n",
    "        return l[idx, idy]\n",
    "    except:\n",
    "        return default\n",
    "\n",
    "## x,y --> posisi pixel citra\n",
    "def LBPH(raw_data):\n",
    "    # ciri uniform\n",
    "\n",
    "\n",
    "    for x in range(0, len(raw_data)):\n",
    "        for y in range(0, len(raw_data[0])):\n",
    "            center          = raw_data[x,y]\n",
    "            top_left        = get_pixel_else_0(raw_data, x-1, y-1)\n",
    "            top_up          = get_pixel_else_0(raw_data, x, y-1)\n",
    "            top_right       = get_pixel_else_0(raw_data, x+1, y-1)\n",
    "            right           = get_pixel_else_0(raw_data, x+1, y)\n",
    "            left            = get_pixel_else_0(raw_data, x-1, y)\n",
    "            bottom_left     = get_pixel_else_0(raw_data, x-1, y+1)\n",
    "            bottom_right    = get_pixel_else_0(raw_data, x+1, y+1)\n",
    "            bottom_down     = get_pixel_else_0(raw_data, x, y+1)\n",
    "\n",
    "            lbp_threshold = thresholded(center, [top_left, top_up, top_right, right, bottom_right,                                                 \n",
    "                                            bottom_right, bottom_left, left])\n",
    "            weights = [1, 2, 4, 8, 16, 32, 64, 128]\n",
    "\n",
    "            lbp_value = 0\n",
    "            for idx in range(0, len(lbp_threshold)):\n",
    "                lbp_value += weights[idx] * lbp_threshold[idx]\n",
    "            \n",
    "            # set lbp_value ke dalam citra\n",
    "            raw_data.itemset((x,y), lbp_value)\n",
    "    \n",
    "    return raw_data\n",
    "\n",
    "## baca citra\n",
    "img_awal = cv2.imread('0_(1).jpg')\n",
    "img_gray = cv2.cvtColor(img_awal, cv2.COLOR_BGR2GRAY)\n",
    "img_lbp  = LBPH(img_gray)\n",
    "\n",
    "## tampilkan citra setelah di LBPH\n",
    "cv2.imshow(\"lbp\", img_lbp)\n",
    "cv2.waitKey(0)\n",
    "cv2.destroyAllWindows()\n",
    "\n",
    "print(\"suhada\")\n"
   ]
  },
  {
   "cell_type": "code",
   "execution_count": 2,
   "metadata": {},
   "outputs": [
    {
     "name": "stdout",
     "output_type": "stream",
     "text": "suhada\n"
    }
   ],
   "source": []
  },
  {
   "cell_type": "code",
   "execution_count": null,
   "metadata": {},
   "outputs": [],
   "source": []
  }
 ]
}