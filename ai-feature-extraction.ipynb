{
 "nbformat": 4,
 "nbformat_minor": 2,
 "metadata": {
  "language_info": {
   "name": "python",
   "codemirror_mode": {
    "name": "ipython",
    "version": 3
   },
   "version": "3.7.5"
  },
  "orig_nbformat": 2,
  "file_extension": ".py",
  "mimetype": "text/x-python",
  "name": "python",
  "npconvert_exporter": "python",
  "pygments_lexer": "ipython3",
  "version": 3
 },
 "cells": [
  {
   "cell_type": "markdown",
   "execution_count": null,
   "metadata": {},
   "outputs": [],
   "source": [
    "# Feature Extractions Method\n",
    "1. Local Binary Pattern \n",
    "   - Local Binary Pattern Histogram (LBPH)\n",
    "   - Local Binary Pattern Histogram Uniform (LBPH-Uniform)\n",
    "    \n",
    "2. Mel Frequency Ceptrum (MFCC)\n",
    "3. Principal Component Analysis (PCA)"
   ]
  },
  {
   "cell_type": "markdown",
   "execution_count": null,
   "metadata": {},
   "outputs": [],
   "source": [
    "## 1. Local Binary Pattern\n",
    "1. Local Binary Pattern Histogram (LBPH)\n",
    "2. Local Binary Pattern Histogram Uniform (LBPH-Uniform)"
   ]
  },
  {
   "cell_type": "code",
   "execution_count": 2,
   "metadata": {},
   "outputs": [],
   "source": [
    "# Local Binary Pattern Histogram LBPH \n",
    "# source : \n",
    "\n",
    "def thresholded(center, pixels):\n",
    "    threshold = []\n",
    "    for a in pixels:\n",
    "        if a >= center:\n",
    "            threshold.append(1)\n",
    "        else :\n",
    "            threshold.append(0)\n",
    "    return threshold\n",
    "\n",
    "def get_pixel_else_0(l, idx, idy, default=0):\n",
    "    try:\n",
    "        return l[idx, idy]\n",
    "    except:\n",
    "        return default\n",
    "\n",
    "def LBPH(raw_data):\n",
    "    for x in range(0, len(raw_data)):\n",
    "        for y in range(0, len(raw_data[0])):\n",
    "            center          = raw_data[x,y]\n",
    "            top_left        = get_pixel_else_0(raw_data, x-1, y-1)\n",
    "            top_up          = get_pixel_else_0(raw_data, x, y-1)\n",
    "            top_right       = get_pixel_else_0(raw_data, x+1, y-1)\n",
    "            right           = get_pixel_else_0(raw_data, x+1, y)\n",
    "            left            = get_pixel_else_0(raw_data, x-1, y)\n",
    "            buttom_left     = get_pixel_else_0(raw_data, x-1, y+1)\n",
    "            buttom_right    = get_pixel_else_0(raw_data, x+1, y+1)\n",
    "            buttom_down     = get_pixel_else_0(raw_data, x, y+1)\n",
    "\n",
    "            lbp_value = thresholded(center, [top_left, top_up, top_right, right,                                                    buttom_right, buttom_left, left])"
   ]
  },
  {
   "cell_type": "code",
   "execution_count": null,
   "metadata": {},
   "outputs": [],
   "source": []
  }
 ]
}