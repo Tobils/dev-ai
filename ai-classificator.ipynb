{
 "nbformat": 4,
 "nbformat_minor": 2,
 "metadata": {
  "language_info": {
   "name": "python",
   "codemirror_mode": {
    "name": "ipython",
    "version": 3
   },
   "version": "3.7.5"
  },
  "orig_nbformat": 2,
  "file_extension": ".py",
  "mimetype": "text/x-python",
  "name": "python",
  "npconvert_exporter": "python",
  "pygments_lexer": "ipython3",
  "version": 3
 },
 "cells": [
  {
   "cell_type": "markdown",
   "execution_count": 2,
   "metadata": {},
   "outputs": [
    {
     "ename": "SyntaxError",
     "evalue": "invalid syntax (<ipython-input-2-1957192d01c0>, line 2)",
     "output_type": "error",
     "traceback": [
      "\u001b[0;36m  File \u001b[0;32m\"<ipython-input-2-1957192d01c0>\"\u001b[0;36m, line \u001b[0;32m2\u001b[0m\n\u001b[0;31m    - The Levenshtein Distance\u001b[0m\n\u001b[0m                    ^\u001b[0m\n\u001b[0;31mSyntaxError\u001b[0m\u001b[0;31m:\u001b[0m invalid syntax\n"
     ]
    }
   ],
   "source": [
    "# Fuzzy\n",
    "- The Levenshtein Distance\n",
    "\n",
    "    The Levenshtein distance is a metric to measure how apart are two sequences of words. In other words, it measures the minimum number of edits that you need to do to change a one-word sequence into the other. These edits can be insertions, deletions or substitutions. This metric was named after Vladimir Levenshtein, who originally considered it in 1965.\n",
    "\n",
    "    The formal definition of the Levenshtein distance between two strings a and b can be seen as follows:\n",
    "\n",
    "    ![formula](img/Levenshtein.png)\n",
    "\n",
    "\n",
    "    Where 1(ai≠bj) denotes 0 when a=b and 1 otherwise. It is important to note that the rows on the minimum above correspond to a deletion, an insertion, and a substitution in that order."
   ]
  },
  {
   "cell_type": "code",
   "execution_count": null,
   "metadata": {},
   "outputs": [],
   "source": [
    "import numpy as np\n",
    "from decimal import *\n",
    "getcontext().prec = 10\n",
    "\n",
    "def levenshtein_ratio_and_distance(s,t,ratio_calc=False):\n",
    "    \"\"\" levenshtein _ratio_and_distance:\n",
    "        calculates levenshtein distance between two strings.\n",
    "        if ratio_calc=true the function computes the levenshtein distance ratio \n",
    "        of similarity between two strings \n",
    "        For all i and j, distance [i,j] will contain the levenshtein \n",
    "        distance between the first i charachter of s the first\n",
    "        characters j of t\n",
    "    \"\"\"\n",
    "    # initialize atrix of zeros\n",
    "    rows = len(s) + 1\n",
    "    cols = len(t) + 1\n",
    "    distance= np.zeros((rows, cols), dtype = int)\n",
    "\n",
    "    # populate matrix of zeroes with the indeces of each character of both strings\n",
    "    for i in range(1, rows):\n",
    "        for k in range(1, cols):\n",
    "            distance[i][0] = i\n",
    "            distance[0][k] = k\n",
    "    \n",
    "    # Iterate over the matrix to compute the cost of deletions , insertions and/or substitutions\n",
    "    for col in range(1, cols):\n",
    "        for row in range(1, rows):\n",
    "            if s[row-1] == t[col-1]:\n",
    "                cost = 0 # if the character are the same in the two strings in a given position [i,j] then the cost is 0\n",
    "            else :\n",
    "                # In order to align the results with those of the Python Levenshtein package, if we choose to calculate the ratio\n",
    "                # the cost of substitution is 2. if we calculate just the distance, the cost of substitution is 1. \n",
    "                if ratio_calc == True :\n",
    "                    cost = 2\n",
    "                else :\n",
    "                    cost = 1\n",
    "            distance[row][col] = min(distance[row-1][col]+1,\n",
    "                                distance[row][col-1]+1,\n",
    "                                distance[row-1][col-1]+ cost)\n",
    "    if ratio_calc == True :\n",
    "        # Computation of the Levenshtein Distance Ratio\n",
    "        Ratio = 0.001\n",
    "        print((len(s)+ len(t))- distance[row][col])\n",
    "        Ratio = ((len(s)+len(t)) - distance[row][col]) / (len(s)+ len(t))\n",
    "        return Ratio\n",
    "    else :\n",
    "        return \"The strings are {} edits away\".format(distance[row][col])\n",
    "\n",
    "\n",
    "# Use fuzzy string\n",
    "str1 = \"Apple Inc.\"\n",
    "str2 = \"Apple Inc\"\n",
    "\n",
    "Distance = levenshtein_ratio_and_distance(str1, str2)\n",
    "print(Distance)\n",
    "\n",
    "Ratio = levenshtein_ratio_and_distance(str1, str2, ratio_calc = True)\n",
    "print(Ratio)\n",
    "\n",
    "\n",
    "\n",
    "# source : https://www.datacamp.com/community/tutorials/fuzzy-string-python"
   ]
  },
  {
   "cell_type": "markdown",
   "execution_count": 4,
   "metadata": {},
   "outputs": [
    {
     "ename": "SyntaxError",
     "evalue": "invalid syntax (<ipython-input-4-d63263dabd35>, line 3)",
     "output_type": "error",
     "traceback": [
      "\u001b[0;36m  File \u001b[0;32m\"<ipython-input-4-d63263dabd35>\"\u001b[0;36m, line \u001b[0;32m3\u001b[0m\n\u001b[0;31m    Jarak K terdekat terhadap ciri pada suatu klasifikasi. KNN merupakan methode klasifikasi paling sederhana. KNN bekerja dengan cara menghitung jarak dari suatu ciri terhadap data ciri yang ada pada data pelatihan.\u001b[0m\n\u001b[0m          ^\u001b[0m\n\u001b[0;31mSyntaxError\u001b[0m\u001b[0;31m:\u001b[0m invalid syntax\n"
     ]
    }
   ],
   "source": [
    "# K-Nearest Neighbor\n",
    "\n",
    "Jarak K terdekat terhadap ciri pada suatu klasifikasi. KNN merupakan methode klasifikasi paling sederhana. KNN bekerja dengan cara menghitung jarak dari suatu ciri terhadap data ciri yang ada pada data pelatihan.\n",
    "\n",
    "metode pengukuran jarak a dan b menggunakan persamaan :\n",
    "jarak = (a**2+b**2)**0.5\n",
    "\n",
    "```python\n",
    "    def euclidean_distance(self):\n",
    "        dif = data_latih - data_uji\n",
    "        for i in dif :\n",
    "            n = n + (i**2)\n",
    "        return (n**(1/2))\n",
    "        \n",
    "    def manhattan_distance(self):\n",
    "        dif = data_latih - data_uji\n",
    "        for i in dif:\n",
    "            n = n + abs(i)\n",
    "        return n\n",
    "```\n"
   ]
  },
  {
   "cell_type": "code",
   "execution_count": 6,
   "metadata": {},
   "outputs": [],
   "source": [
    "# KNN\n",
    "\n",
    "class Knn :\n",
    "    n = 0\n",
    "\n",
    "    def __init__(self, data_latih, data_uji):\n",
    "        self.data_latih = data_latih\n",
    "        self.data_uji = data_uji\n",
    "\n",
    "    # cek nilai absolute positif\n",
    "    def abs(nilai_abs):\n",
    "        if nilai_abs < 0 :\n",
    "            return nilai_abs*(-1)\n",
    "        else :\n",
    "            return nilai_abs\n",
    "\n",
    "    # p = 1 --> manhattan, p = 2 --> euclidean\n",
    "    def distance(self, p):\n",
    "        dif = data_latih - data_uji\n",
    "        for i in dif :\n",
    "            if p == 1 :\n",
    "                n = n + abs(i**p)\n",
    "            else:\n",
    "                n = n + (i**p)\n",
    "        return (n**(1/p))\n",
    "\n",
    "\n",
    "\n"
   ]
  },
  {
   "cell_type": "code",
   "execution_count": null,
   "metadata": {},
   "outputs": [],
   "source": []
  }
 ]
}